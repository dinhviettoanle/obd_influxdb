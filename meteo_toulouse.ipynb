{
 "cells": [
  {
   "cell_type": "markdown",
   "metadata": {},
   "source": [
    "# Météo Toulouse"
   ]
  },
  {
   "cell_type": "code",
   "execution_count": 2,
   "metadata": {},
   "outputs": [],
   "source": [
    "import influxdb_client\n",
    "from influxdb_client.client.write_api import SYNCHRONOUS\n",
    "from influxdb_client import InfluxDBClient, Point, WriteOptions\n",
    "import rx\n",
    "from rx import operators as ops\n",
    "from collections import OrderedDict\n",
    "from csv import DictReader\n",
    "from datetime import datetime"
   ]
  },
  {
   "cell_type": "code",
   "execution_count": 3,
   "metadata": {},
   "outputs": [],
   "source": [
    "bucket = \"meteo_toulouse\"\n",
    "org = \"obd_influxdb\"\n",
    "token = \"DkqpJF-KB6oCD25k7E8woeHxK0deggIpNyDxFeoszhLogSRrYLKdYMdcZjVGXyutwFSFBfLD5-Jkbah6wt9ujA==\"\n",
    "url=\"http://localhost:8086\"\n",
    "\n",
    "client = influxdb_client.InfluxDBClient(\n",
    "        url=url,\n",
    "        token=token,\n",
    "        org=org,\n",
    "        timeout=60_000\n",
    "    )"
   ]
  },
  {
   "cell_type": "code",
   "execution_count": 20,
   "metadata": {},
   "outputs": [
    {
     "name": "stdout",
     "output_type": "stream",
     "text": [
      "Done !\n"
     ]
    }
   ],
   "source": [
    "datafile = 'data/12-station-meteo-toulouse-montaudran.csv'\n",
    "station = \"12-montaudran\"\n",
    "\n",
    "def parse_row(row):\n",
    "    return influxdb_client.Point(\"meteo\") \\\n",
    "        .tag('station', station) \\\n",
    "        .field('temperature', float(row['temperature'])) \\\n",
    "        .field('pression', float(row['pression'])) \\\n",
    "        .field('pluie_intensite_max', float(row['pluie_intensite_max'])) \\\n",
    "        .field('force_moyenne_du_vecteur_vent', float(row['force_moyenne_du_vecteur_vent'])) \\\n",
    "        .time(row['heure_de_paris'])\n",
    "\n",
    "data = rx \\\n",
    "    .from_iterable(DictReader(open(datafile, 'r'), delimiter=\";\")) \\\n",
    "    .pipe(ops.map(lambda row: parse_row(row)))\n",
    "\n",
    "write_api = client.write_api(write_options=WriteOptions(batch_size=50_000, flush_interval=10_000))\n",
    "write_api.write(bucket=bucket, org=org, record=data)\n",
    "write_api.close()\n",
    "print(\"Done !\")"
   ]
  },
  {
   "cell_type": "code",
   "execution_count": 17,
   "metadata": {},
   "outputs": [
    {
     "name": "stdout",
     "output_type": "stream",
     "text": [
      "Done !\n"
     ]
    }
   ],
   "source": [
    "def delete_db():\n",
    "    delete_api = client.delete_api()\n",
    "    start = \"1970-01-01T00:00:00Z\"\n",
    "    stop = \"2022-02-01T00:00:00Z\"\n",
    "    delete_api.delete(start, stop, '_measurement=\"meteo\"', bucket=bucket, org=org)\n",
    "    print(\"Done !\")\n",
    "    \n",
    "delete_db()"
   ]
  }
 ],
 "metadata": {
  "kernelspec": {
   "display_name": "Python 3",
   "language": "python",
   "name": "python3"
  },
  "language_info": {
   "codemirror_mode": {
    "name": "ipython",
    "version": 3
   },
   "file_extension": ".py",
   "mimetype": "text/x-python",
   "name": "python",
   "nbconvert_exporter": "python",
   "pygments_lexer": "ipython3",
   "version": "3.8.5"
  },
  "toc": {
   "base_numbering": 1,
   "nav_menu": {},
   "number_sections": false,
   "sideBar": true,
   "skip_h1_title": false,
   "title_cell": "Table of Contents",
   "title_sidebar": "Contents",
   "toc_cell": false,
   "toc_position": {},
   "toc_section_display": true,
   "toc_window_display": false
  }
 },
 "nbformat": 4,
 "nbformat_minor": 4
}
