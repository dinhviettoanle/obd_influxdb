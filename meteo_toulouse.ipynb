{
 "cells": [
  {
   "cell_type": "markdown",
   "metadata": {},
   "source": [
    "# Météo Toulouse"
   ]
  },
  {
   "cell_type": "code",
   "execution_count": 1,
   "metadata": {},
   "outputs": [],
   "source": [
    "import influxdb_client\n",
    "from influxdb_client.client.write_api import SYNCHRONOUS\n",
    "from influxdb_client import InfluxDBClient, Point, WriteOptions\n",
    "import rx\n",
    "from rx import operators as ops\n",
    "from collections import OrderedDict\n",
    "from csv import DictReader\n",
    "from datetime import datetime\n",
    "import pandas as pd\n",
    "import numpy as np\n",
    "import re"
   ]
  },
  {
   "cell_type": "code",
   "execution_count": 2,
   "metadata": {},
   "outputs": [],
   "source": [
    "from IPython.display import display, HTML\n",
    "def print_df(df):\n",
    "    display(HTML(df.to_html()))"
   ]
  },
  {
   "cell_type": "code",
   "execution_count": 3,
   "metadata": {},
   "outputs": [],
   "source": [
    "bucket = \"meteo_toulouse\"\n",
    "org = \"obd_influxdb\"\n",
    "token = \"DkqpJF-KB6oCD25k7E8woeHxK0deggIpNyDxFeoszhLogSRrYLKdYMdcZjVGXyutwFSFBfLD5-Jkbah6wt9ujA==\"\n",
    "url=\"http://localhost:8086\"\n",
    "\n",
    "client = influxdb_client.InfluxDBClient(\n",
    "        url=url,\n",
    "        token=token,\n",
    "        org=org,\n",
    "        timeout=60_000\n",
    "    )"
   ]
  },
  {
   "cell_type": "markdown",
   "metadata": {},
   "source": [
    "### Import dataset"
   ]
  },
  {
   "cell_type": "code",
   "execution_count": 4,
   "metadata": {},
   "outputs": [],
   "source": [
    "station_list = [\n",
    "    '36-station-meteo-toulouse-purpan',\n",
    "    '12-station-meteo-toulouse-montaudran',\n",
    "    '53-station-meteo-toulouse-ponsan',\n",
    "    '04-station-meteo-toulouse-ile-empalot',\n",
    "    '15-station-meteo-l-union-ecole',\n",
    "    '01-station-meteo-toulouse-meteopole',\n",
    "    '00-station-meteo-toulouse-valade'\n",
    "]"
   ]
  },
  {
   "cell_type": "code",
   "execution_count": 22,
   "metadata": {},
   "outputs": [],
   "source": [
    "def parse_row(row, station_name):\n",
    "    if row['humidite'] == '':\n",
    "        print(row)\n",
    "    return influxdb_client.Point(\"meteo\") \\\n",
    "        .tag('station', station_name) \\\n",
    "        .field('humidite', float(row['humidite'])) \\\n",
    "        .field('pluie', float(row['pluie'])) \\\n",
    "        .field('pluie_intensite_max', float(row['pluie_intensite_max'])) \\\n",
    "        .field('force_moyenne_du_vecteur_vent', float(row['force_moyenne_du_vecteur_vent'])) \\\n",
    "        .field('direction_du_vecteur_vent_moyen', float(row['direction_du_vecteur_vent_moyen'])) \\\n",
    "        .field('direction_du_vecteur_de_vent_max', float(row['direction_du_vecteur_de_vent_max'])) \\\n",
    "        .field('force_rafale_max', float(row['force_rafale_max'])) \\\n",
    "        .field('direction_du_vecteur_de_rafale_de_vent_max', float(row['direction_du_vecteur_de_rafale_de_vent_max'])) \\\n",
    "        .field('temperature', float(row['temperature'])) \\\n",
    "        .field('pression', float(row['pression'])) \\\n",
    "        .time(row['heure_de_paris'])\n",
    "\n",
    "def gen_rows(df):\n",
    "    for row in df.itertuples(index=False):\n",
    "        yield row._asdict()\n",
    "        \n",
    "\n",
    "relevant_index = ['humidite', \n",
    "               'pluie', 'pluie_intensite_max', \n",
    "               'force_moyenne_du_vecteur_vent', 'direction_du_vecteur_vent_moyen', 'direction_du_vecteur_de_vent_max',\n",
    "               'force_rafale_max', 'direction_du_vecteur_de_rafale_de_vent_max', 'temperature', 'pression', 'heure_de_paris']\n",
    "\n",
    "# To use in PostgreSQL\n",
    "def export_clean_csv(df_station, station):\n",
    "    df_clean = pd.DataFrame()\n",
    "    df_clean[relevant_index] = df_station[relevant_index]\n",
    "    df_clean['station'] = [station] * len(df_clean)\n",
    "    df_clean.to_csv(f'psql_queries/{station}.csv', index=False)\n",
    "\n",
    "    \n",
    "def import_one_station(csv_file, station_name):\n",
    "    \n",
    "    df_station = pd.read_csv(csv_file, sep=\";\")\n",
    "    df_station.replace('', np.nan, inplace=True)\n",
    "    df_station.dropna(inplace=True)\n",
    "    \n",
    "    export_clean_csv(df_station, station)\n",
    "    \n",
    "    data = rx.from_iterable(gen_rows(df_station)).pipe(ops.map(lambda row: parse_row(row, station_name)))\n",
    "\n",
    "    write_api = client.write_api(write_options=WriteOptions(batch_size=50_000, flush_interval=10_000))\n",
    "    write_api.write(bucket=bucket, org=org, record=data)\n",
    "    write_api.close()\n",
    "    print(f\"{station_name} done !\")"
   ]
  },
  {
   "cell_type": "markdown",
   "metadata": {},
   "source": [
    "#### Test one file"
   ]
  },
  {
   "cell_type": "code",
   "execution_count": 23,
   "metadata": {},
   "outputs": [
    {
     "name": "stdout",
     "output_type": "stream",
     "text": [
      "12-toulouse-montaudran\n"
     ]
    },
    {
     "data": {
      "text/plain": [
       "0        12.0\n",
       "1        11.5\n",
       "2        11.4\n",
       "3        10.6\n",
       "4        15.8\n",
       "         ... \n",
       "73938    14.3\n",
       "73939    15.5\n",
       "73940    21.8\n",
       "73941    21.3\n",
       "73942     5.3\n",
       "Name: temperature, Length: 73943, dtype: float64"
      ]
     },
     "execution_count": 23,
     "metadata": {},
     "output_type": "execute_result"
    }
   ],
   "source": [
    "datafile = f\"data/{station_list[1]}.csv\"\n",
    "regex_items = re.search(r'data/(\\d\\d)-station-meteo-(.*)\\.csv', datafile)\n",
    "station = f\"{regex_items.group(1)}-{regex_items.group(2)}\"\n",
    "print(station)\n",
    "\n",
    "df_station = pd.read_csv(datafile, sep=\";\")\n",
    "df_station.replace('', np.nan, inplace=True)\n",
    "df_station.dropna(inplace=True)\n",
    "df_station['temperature']\n",
    "\n",
    "# import_one_station(datafile, station)"
   ]
  },
  {
   "cell_type": "markdown",
   "metadata": {},
   "source": [
    "#### Import all files"
   ]
  },
  {
   "cell_type": "code",
   "execution_count": 24,
   "metadata": {},
   "outputs": [
    {
     "name": "stdout",
     "output_type": "stream",
     "text": [
      "36-station-meteo-toulouse-purpan\n",
      "Elapsed time :  1.7003614902496338\n",
      "12-station-meteo-toulouse-montaudran\n",
      "Elapsed time :  1.2425305843353271\n",
      "53-station-meteo-toulouse-ponsan\n",
      "Elapsed time :  1.7457196712493896\n",
      "04-station-meteo-toulouse-ile-empalot\n",
      "Elapsed time :  1.6238138675689697\n",
      "15-station-meteo-l-union-ecole\n",
      "Elapsed time :  2.297161102294922\n",
      "01-station-meteo-toulouse-meteopole\n",
      "Elapsed time :  1.8756422996520996\n",
      "00-station-meteo-toulouse-valade\n",
      "Elapsed time :  2.0257508754730225\n"
     ]
    }
   ],
   "source": [
    "import time\n",
    "\n",
    "for station in station_list:\n",
    "    print(station)\n",
    "    start_time = time.time()\n",
    "    datafile = f'data/{station}.csv'\n",
    "    regex_items = re.search(r'data/(\\d\\d)-station-meteo-(.*)\\.csv', datafile)\n",
    "    station = f\"{regex_items.group(1)}-{regex_items.group(2)}\"\n",
    "\n",
    "    import_one_station(datafile, station)\n",
    "    print(\"Elapsed time : \", time.time() - start_time)"
   ]
  },
  {
   "cell_type": "markdown",
   "metadata": {},
   "source": [
    "### Query"
   ]
  },
  {
   "cell_type": "code",
   "execution_count": 57,
   "metadata": {},
   "outputs": [
    {
     "name": "stdout",
     "output_type": "stream",
     "text": [
      "Querying...\n",
      "Response received !\n",
      "Entries : 5518\n",
      "[('17/08/2021, 07:45:00', 'humidite', 74.0),\n",
      " ('17/08/2021, 08:00:00', 'humidite', 73.0),\n",
      " ('17/08/2021, 08:15:00', 'humidite', 71.0),\n",
      " ('17/08/2021, 08:30:00', 'humidite', 69.0),\n",
      " ('17/08/2021, 08:45:00', 'humidite', 66.0),\n",
      " ('17/08/2021, 09:00:00', 'humidite', 64.0),\n",
      " ('17/08/2021, 09:15:00', 'humidite', 62.0),\n",
      " ('17/08/2021, 09:30:00', 'humidite', 62.0),\n",
      " ('17/08/2021, 09:45:00', 'humidite', 62.0),\n",
      " ('17/08/2021, 10:00:00', 'humidite', 62.0)]\n"
     ]
    }
   ],
   "source": [
    "from pprint import pprint\n",
    "\n",
    "query_api = client.query_api()\n",
    "query = \"\"\"from(bucket: \"meteo_toulouse\")\n",
    "  |> range(start: -60d, stop: now())\n",
    "  |> filter(fn: (r) => r[\"_measurement\"] == \"meteo\")\n",
    "  |> filter(fn: (r) => r[\"station\"] == \"12-montaudran\")\n",
    "  |> filter(fn: (r) => r[\"_field\"] == \"humidite\")\"\"\"\n",
    "\n",
    "print(\"Querying...\")\n",
    "result = query_api.query(org=org, query=query)\n",
    "print(\"Response received !\")\n",
    "results = []\n",
    "for table in result:\n",
    "    for record in table.records:\n",
    "        results.append((record.get_time().strftime(\"%d/%m/%Y, %H:%M:%S\"), record.get_field(), record.get_value()))\n",
    "\n",
    "print(f\"Entries : {len(results)}\")\n",
    "pprint(results[:10])"
   ]
  },
  {
   "cell_type": "markdown",
   "metadata": {},
   "source": [
    "### Delete fulll DB"
   ]
  },
  {
   "cell_type": "code",
   "execution_count": 20,
   "metadata": {},
   "outputs": [
    {
     "name": "stdout",
     "output_type": "stream",
     "text": [
      "Done !\n"
     ]
    }
   ],
   "source": [
    "def delete_db():\n",
    "    delete_api = client.delete_api()\n",
    "    start = \"1970-01-01T00:00:00Z\"\n",
    "    stop = \"2022-02-01T00:00:00Z\"\n",
    "    delete_api.delete(start, stop, '_measurement=\"meteo\"', bucket=bucket, org=org)\n",
    "    print(\"Done !\")\n",
    "    \n",
    "delete_db()"
   ]
  },
  {
   "cell_type": "markdown",
   "metadata": {},
   "source": [
    "## Downloader"
   ]
  },
  {
   "cell_type": "code",
   "execution_count": 7,
   "metadata": {},
   "outputs": [
    {
     "data": {
      "application/vnd.jupyter.widget-view+json": {
       "model_id": "cf15a41b9c994874bf8d85ad560fc084",
       "version_major": 2,
       "version_minor": 0
      },
      "text/plain": [
       "HBox(children=(HTML(value='data/36-station-meteo-toulouse-purpan.csv'), FloatProgress(value=1.0, bar_style='in…"
      ]
     },
     "metadata": {},
     "output_type": "display_data"
    },
    {
     "name": "stdout",
     "output_type": "stream",
     "text": [
      "\n"
     ]
    },
    {
     "data": {
      "application/vnd.jupyter.widget-view+json": {
       "model_id": "b53658b3f0664073b0a6393b035fa723",
       "version_major": 2,
       "version_minor": 0
      },
      "text/plain": [
       "HBox(children=(HTML(value='data/12-station-meteo-toulouse-montaudran.csv'), FloatProgress(value=1.0, bar_style…"
      ]
     },
     "metadata": {},
     "output_type": "display_data"
    },
    {
     "name": "stdout",
     "output_type": "stream",
     "text": [
      "\n"
     ]
    },
    {
     "data": {
      "application/vnd.jupyter.widget-view+json": {
       "model_id": "dd8afc188eb646999e1170a6671c7c42",
       "version_major": 2,
       "version_minor": 0
      },
      "text/plain": [
       "HBox(children=(HTML(value='data/53-station-meteo-toulouse-ponsan.csv'), FloatProgress(value=1.0, bar_style='in…"
      ]
     },
     "metadata": {},
     "output_type": "display_data"
    },
    {
     "name": "stdout",
     "output_type": "stream",
     "text": [
      "\n"
     ]
    },
    {
     "data": {
      "application/vnd.jupyter.widget-view+json": {
       "model_id": "b2c29f3f9b2341d2812a0024d86924e9",
       "version_major": 2,
       "version_minor": 0
      },
      "text/plain": [
       "HBox(children=(HTML(value='data/04-station-meteo-toulouse-ile-empalot.csv'), FloatProgress(value=1.0, bar_styl…"
      ]
     },
     "metadata": {},
     "output_type": "display_data"
    },
    {
     "name": "stdout",
     "output_type": "stream",
     "text": [
      "\n"
     ]
    },
    {
     "data": {
      "application/vnd.jupyter.widget-view+json": {
       "model_id": "8abd3227847b4eabbf67550ecd82e0b2",
       "version_major": 2,
       "version_minor": 0
      },
      "text/plain": [
       "HBox(children=(HTML(value='data/15-station-meteo-l-union-ecole.csv'), FloatProgress(value=1.0, bar_style='info…"
      ]
     },
     "metadata": {},
     "output_type": "display_data"
    },
    {
     "name": "stdout",
     "output_type": "stream",
     "text": [
      "\n"
     ]
    },
    {
     "data": {
      "application/vnd.jupyter.widget-view+json": {
       "model_id": "74a2ebd188d348bbb5ed1f09752985f8",
       "version_major": 2,
       "version_minor": 0
      },
      "text/plain": [
       "HBox(children=(HTML(value='data/01-station-meteo-toulouse-meteopole.csv'), FloatProgress(value=1.0, bar_style=…"
      ]
     },
     "metadata": {},
     "output_type": "display_data"
    },
    {
     "name": "stdout",
     "output_type": "stream",
     "text": [
      "\n"
     ]
    },
    {
     "data": {
      "application/vnd.jupyter.widget-view+json": {
       "model_id": "0f889b50a87c40ab9eea6358acf2f174",
       "version_major": 2,
       "version_minor": 0
      },
      "text/plain": [
       "HBox(children=(HTML(value='data/00-station-meteo-toulouse-valade.csv'), FloatProgress(value=1.0, bar_style='in…"
      ]
     },
     "metadata": {},
     "output_type": "display_data"
    },
    {
     "name": "stdout",
     "output_type": "stream",
     "text": [
      "\n"
     ]
    }
   ],
   "source": [
    "import urllib.request\n",
    "\n",
    "from tqdm.autonotebook import tqdm\n",
    "\n",
    "\n",
    "class DownloadProgressBar(tqdm):\n",
    "    def update_to(self, b=1, bsize=1, tsize=None):\n",
    "        if tsize is not None:\n",
    "            self.total = tsize\n",
    "        self.update(b * bsize - self.n)\n",
    "\n",
    "\n",
    "def download_url(url, output_path):\n",
    "    with DownloadProgressBar(unit='B', unit_scale=True,\n",
    "                             miniters=1, desc=output_path) as t:\n",
    "        urllib.request.urlretrieve(url, filename=output_path, reporthook=t.update_to)\n",
    "        \n",
    "\n",
    "\n",
    "\n",
    "for filename in station_list:\n",
    "    url = f'https://data.toulouse-metropole.fr/explore/dataset/{filename}/download/?format=csv&timezone=Europe/Berlin&lang=fr&use_labels_for_header=true&csv_separator=%3B'\n",
    "    download_url(url, f\"data/{filename}.csv\")"
   ]
  },
  {
   "cell_type": "code",
   "execution_count": null,
   "metadata": {},
   "outputs": [],
   "source": []
  }
 ],
 "metadata": {
  "kernelspec": {
   "display_name": "Python 3",
   "language": "python",
   "name": "python3"
  },
  "language_info": {
   "codemirror_mode": {
    "name": "ipython",
    "version": 3
   },
   "file_extension": ".py",
   "mimetype": "text/x-python",
   "name": "python",
   "nbconvert_exporter": "python",
   "pygments_lexer": "ipython3",
   "version": "3.8.5"
  },
  "toc": {
   "base_numbering": 1,
   "nav_menu": {},
   "number_sections": false,
   "sideBar": true,
   "skip_h1_title": false,
   "title_cell": "Table of Contents",
   "title_sidebar": "Contents",
   "toc_cell": false,
   "toc_position": {},
   "toc_section_display": true,
   "toc_window_display": false
  },
  "widgets": {
   "application/vnd.jupyter.widget-state+json": {
    "state": {
     "02ba70e8b8a5498d8458cf57b73b9454": {
      "model_module": "@jupyter-widgets/controls",
      "model_module_version": "1.5.0",
      "model_name": "FloatProgressModel",
      "state": {
       "bar_style": "success",
       "layout": "IPY_MODEL_f019465aee594818a88b2c44e59c78a1",
       "max": 1,
       "style": "IPY_MODEL_b792944375ab4072aee161a898c4bdb4",
       "value": 1
      }
     },
     "03a58d543d3f456da1a68201df12cf02": {
      "model_module": "@jupyter-widgets/base",
      "model_module_version": "1.2.0",
      "model_name": "LayoutModel",
      "state": {}
     },
     "05d0ad0d8b9443609beddd91ed745324": {
      "model_module": "@jupyter-widgets/base",
      "model_module_version": "1.2.0",
      "model_name": "LayoutModel",
      "state": {
       "width": "20px"
      }
     },
     "08ce7afa06214d8d8de7748b720850c1": {
      "model_module": "@jupyter-widgets/base",
      "model_module_version": "1.2.0",
      "model_name": "LayoutModel",
      "state": {}
     },
     "0a4d5183030145e682f6bb10f7076622": {
      "model_module": "@jupyter-widgets/base",
      "model_module_version": "1.2.0",
      "model_name": "LayoutModel",
      "state": {}
     },
     "0c3593de5f7449eabae6630ca1e8ad7c": {
      "model_module": "@jupyter-widgets/controls",
      "model_module_version": "1.5.0",
      "model_name": "HTMLModel",
      "state": {
       "layout": "IPY_MODEL_c8ce67a445f743149857509847975226",
       "style": "IPY_MODEL_54e1efe8c6404f0fbcf21819310b2eb4",
       "value": " 9.40M/? [09:35&lt;00:00, 16.3kB/s]"
      }
     },
     "0dd93bad89d6486b97d557aec3fae0df": {
      "model_module": "@jupyter-widgets/controls",
      "model_module_version": "1.5.0",
      "model_name": "HTMLModel",
      "state": {
       "layout": "IPY_MODEL_e9d2176ccb2f406a96acc11769dfe137",
       "style": "IPY_MODEL_17a9d034dc9947b2afad93815c977a66"
      }
     },
     "0f889b50a87c40ab9eea6358acf2f174": {
      "model_module": "@jupyter-widgets/controls",
      "model_module_version": "1.5.0",
      "model_name": "HBoxModel",
      "state": {
       "children": [
        "IPY_MODEL_cdc48cd9000142b78bc2961be3cbd968",
        "IPY_MODEL_1f62a8b37ec249ee851790695f38344c",
        "IPY_MODEL_3968f3420040490988a72174da39b33a"
       ],
       "layout": "IPY_MODEL_cb27a086876440f08a77a6f142c766c0"
      }
     },
     "0fdd4d90940e488789c9e563ac5d2152": {
      "model_module": "@jupyter-widgets/controls",
      "model_module_version": "1.5.0",
      "model_name": "ProgressStyleModel",
      "state": {
       "description_width": ""
      }
     },
     "13d47230d92d4b1d95f26dbaf630b47a": {
      "model_module": "@jupyter-widgets/controls",
      "model_module_version": "1.5.0",
      "model_name": "DescriptionStyleModel",
      "state": {
       "description_width": ""
      }
     },
     "17a9d034dc9947b2afad93815c977a66": {
      "model_module": "@jupyter-widgets/controls",
      "model_module_version": "1.5.0",
      "model_name": "DescriptionStyleModel",
      "state": {
       "description_width": ""
      }
     },
     "19da869c6c2549d386a556ad8067ae76": {
      "model_module": "@jupyter-widgets/controls",
      "model_module_version": "1.5.0",
      "model_name": "FloatProgressModel",
      "state": {
       "bar_style": "success",
       "layout": "IPY_MODEL_05d0ad0d8b9443609beddd91ed745324",
       "max": 1,
       "style": "IPY_MODEL_aa2960dd14824906acd3059e7b363943"
      }
     },
     "1f44887ed09740139aa5d444009f37f6": {
      "model_module": "@jupyter-widgets/controls",
      "model_module_version": "1.5.0",
      "model_name": "HTMLModel",
      "state": {
       "layout": "IPY_MODEL_ede1ab1c65a4433786b09a580b7aceb1",
       "style": "IPY_MODEL_da18a41d37e24f7cb40f3e43ec9f7857",
       "value": "data/53-station-meteo-toulouse-ponsan.csv: "
      }
     },
     "1f62a8b37ec249ee851790695f38344c": {
      "model_module": "@jupyter-widgets/controls",
      "model_module_version": "1.5.0",
      "model_name": "FloatProgressModel",
      "state": {
       "bar_style": "success",
       "layout": "IPY_MODEL_2623570e4bb94426a3800e1887c59745",
       "max": 1,
       "style": "IPY_MODEL_7a5fd5d4bc5842d1a98fb63d2f38bac5",
       "value": 1
      }
     },
     "214d8299f9fe420f85ffa1f773e51db7": {
      "model_module": "@jupyter-widgets/base",
      "model_module_version": "1.2.0",
      "model_name": "LayoutModel",
      "state": {
       "width": "20px"
      }
     },
     "216c7a86ba9d4a7eab3a3163a9e8dfaa": {
      "model_module": "@jupyter-widgets/controls",
      "model_module_version": "1.5.0",
      "model_name": "HTMLModel",
      "state": {
       "layout": "IPY_MODEL_49e85e8b95244cbb80b8df048ea3d713",
       "style": "IPY_MODEL_13d47230d92d4b1d95f26dbaf630b47a",
       "value": " 9.65M/? [17:21&lt;00:00, 9.26kB/s]"
      }
     },
     "2552aed11d70400b9d62b12e001e5f54": {
      "model_module": "@jupyter-widgets/base",
      "model_module_version": "1.2.0",
      "model_name": "LayoutModel",
      "state": {}
     },
     "2623570e4bb94426a3800e1887c59745": {
      "model_module": "@jupyter-widgets/base",
      "model_module_version": "1.2.0",
      "model_name": "LayoutModel",
      "state": {
       "width": "20px"
      }
     },
     "26ac775c61e44ecd8699e33dffa25429": {
      "model_module": "@jupyter-widgets/controls",
      "model_module_version": "1.5.0",
      "model_name": "HTMLModel",
      "state": {
       "layout": "IPY_MODEL_d89a509191bd453d8a4fa004525f7eb3",
       "style": "IPY_MODEL_a5113ae2a18d480194006790e98e4e16",
       "value": "data/data/36-station-meteo-toulouse-purpan.csv.csv: 0.00B [24:39, ?B/s]"
      }
     },
     "277eb9e5ba5a4e779d700b1d559b3cc0": {
      "model_module": "@jupyter-widgets/controls",
      "model_module_version": "1.5.0",
      "model_name": "HTMLModel",
      "state": {
       "layout": "IPY_MODEL_b8c6e01d16e7473681209e5cb79d08e0",
       "style": "IPY_MODEL_7ded9fab0a0443fba505379d5350c6d4",
       "value": " 9.52M/? [24:12&lt;00:00, 6.55kB/s]"
      }
     },
     "2e1172d914624ef29ac59014d068d869": {
      "model_module": "@jupyter-widgets/controls",
      "model_module_version": "1.5.0",
      "model_name": "DescriptionStyleModel",
      "state": {
       "description_width": ""
      }
     },
     "31a64f3a944f4aa7afb0716207b48c65": {
      "model_module": "@jupyter-widgets/controls",
      "model_module_version": "1.5.0",
      "model_name": "ProgressStyleModel",
      "state": {
       "description_width": ""
      }
     },
     "342cc0dbfc4a450cbe9a68b4274d7d5f": {
      "model_module": "@jupyter-widgets/base",
      "model_module_version": "1.2.0",
      "model_name": "LayoutModel",
      "state": {}
     },
     "357d01cd0104494bb5e7ec66fa07eb20": {
      "model_module": "@jupyter-widgets/controls",
      "model_module_version": "1.5.0",
      "model_name": "DescriptionStyleModel",
      "state": {
       "description_width": ""
      }
     },
     "3968f3420040490988a72174da39b33a": {
      "model_module": "@jupyter-widgets/controls",
      "model_module_version": "1.5.0",
      "model_name": "HTMLModel",
      "state": {
       "layout": "IPY_MODEL_342cc0dbfc4a450cbe9a68b4274d7d5f",
       "style": "IPY_MODEL_9b5cdb71dd1c417d97801138a13ba9ca",
       "value": " 8.60M/? [02:38&lt;00:00, 54.3kB/s]"
      }
     },
     "3b6fcbedd3ea4c6ea0e5f07effcd8f42": {
      "model_module": "@jupyter-widgets/controls",
      "model_module_version": "1.5.0",
      "model_name": "FloatProgressModel",
      "state": {
       "bar_style": "success",
       "layout": "IPY_MODEL_91d209c844e74eb3ada05410351bc74d",
       "max": 1,
       "style": "IPY_MODEL_8df8fbd81d0b47b08def67f8e9021eb5",
       "value": 1
      }
     },
     "3ef38afa7c0049098166618c1dfa6980": {
      "model_module": "@jupyter-widgets/controls",
      "model_module_version": "1.5.0",
      "model_name": "HTMLModel",
      "state": {
       "layout": "IPY_MODEL_f682486094fc41e88dd50bf1c2a3bd12",
       "style": "IPY_MODEL_357d01cd0104494bb5e7ec66fa07eb20",
       "value": " 9.07M/? [03:13&lt;00:00, 46.9kB/s]"
      }
     },
     "43e6b1d202b0440c83fbaecf5f9eaec3": {
      "model_module": "@jupyter-widgets/base",
      "model_module_version": "1.2.0",
      "model_name": "LayoutModel",
      "state": {}
     },
     "49e85e8b95244cbb80b8df048ea3d713": {
      "model_module": "@jupyter-widgets/base",
      "model_module_version": "1.2.0",
      "model_name": "LayoutModel",
      "state": {}
     },
     "4c350a2cf6334f03b1110164e775cd21": {
      "model_module": "@jupyter-widgets/base",
      "model_module_version": "1.2.0",
      "model_name": "LayoutModel",
      "state": {}
     },
     "4cc0e2a755a44fc38f8c986c90aba98c": {
      "model_module": "@jupyter-widgets/controls",
      "model_module_version": "1.5.0",
      "model_name": "FloatProgressModel",
      "state": {
       "bar_style": "success",
       "layout": "IPY_MODEL_509c695d51574e158317bfb9bedab4f4",
       "max": 1,
       "style": "IPY_MODEL_31a64f3a944f4aa7afb0716207b48c65",
       "value": 1
      }
     },
     "4dd9db8b76f743c69c3b73af304c0a1f": {
      "model_module": "@jupyter-widgets/controls",
      "model_module_version": "1.5.0",
      "model_name": "FloatProgressModel",
      "state": {
       "bar_style": "success",
       "layout": "IPY_MODEL_214d8299f9fe420f85ffa1f773e51db7",
       "max": 1,
       "style": "IPY_MODEL_0fdd4d90940e488789c9e563ac5d2152",
       "value": 1
      }
     },
     "509c695d51574e158317bfb9bedab4f4": {
      "model_module": "@jupyter-widgets/base",
      "model_module_version": "1.2.0",
      "model_name": "LayoutModel",
      "state": {
       "width": "20px"
      }
     },
     "537af8d1c3b940e2ab5e8d262c1a4649": {
      "model_module": "@jupyter-widgets/base",
      "model_module_version": "1.2.0",
      "model_name": "LayoutModel",
      "state": {}
     },
     "54e1efe8c6404f0fbcf21819310b2eb4": {
      "model_module": "@jupyter-widgets/controls",
      "model_module_version": "1.5.0",
      "model_name": "DescriptionStyleModel",
      "state": {
       "description_width": ""
      }
     },
     "56aa60b6b6a24f1d801c2a61e1819ca3": {
      "model_module": "@jupyter-widgets/controls",
      "model_module_version": "1.5.0",
      "model_name": "HTMLModel",
      "state": {
       "layout": "IPY_MODEL_cd7b246bef914224b8b1d6bbcaf1ea1e",
       "style": "IPY_MODEL_6c8112a7201c4500b3be8d05b16d3b11",
       "value": " 10.4M/? [05:11&lt;00:00, 33.3kB/s]"
      }
     },
     "5a572e12482e4c8b9b775bb494372c89": {
      "model_module": "@jupyter-widgets/controls",
      "model_module_version": "1.5.0",
      "model_name": "HTMLModel",
      "state": {
       "layout": "IPY_MODEL_537af8d1c3b940e2ab5e8d262c1a4649",
       "style": "IPY_MODEL_a4c1eb8d1ada49afa8845d78026496db",
       "value": " 9.12M/? [02:59&lt;00:00, 50.9kB/s]"
      }
     },
     "5ec4a67f11aa4e0eab2c1f02efa2d0ca": {
      "model_module": "@jupyter-widgets/base",
      "model_module_version": "1.2.0",
      "model_name": "LayoutModel",
      "state": {}
     },
     "6ab52ed093d942c8bcbf4532f9e9ee86": {
      "model_module": "@jupyter-widgets/controls",
      "model_module_version": "1.5.0",
      "model_name": "DescriptionStyleModel",
      "state": {
       "description_width": ""
      }
     },
     "6b53e8bd49414094976efd1eccf994f9": {
      "model_module": "@jupyter-widgets/controls",
      "model_module_version": "1.5.0",
      "model_name": "DescriptionStyleModel",
      "state": {
       "description_width": ""
      }
     },
     "6c8112a7201c4500b3be8d05b16d3b11": {
      "model_module": "@jupyter-widgets/controls",
      "model_module_version": "1.5.0",
      "model_name": "DescriptionStyleModel",
      "state": {
       "description_width": ""
      }
     },
     "7096e33d5e3a4fa2866bce676af68e2f": {
      "model_module": "@jupyter-widgets/controls",
      "model_module_version": "1.5.0",
      "model_name": "ProgressStyleModel",
      "state": {
       "description_width": ""
      }
     },
     "737adf0344ae4e3e8f479e1dd9289269": {
      "model_module": "@jupyter-widgets/controls",
      "model_module_version": "1.5.0",
      "model_name": "FloatProgressModel",
      "state": {
       "bar_style": "success",
       "layout": "IPY_MODEL_90120ea4af50450d81b569534b4d5b84",
       "max": 1,
       "style": "IPY_MODEL_7096e33d5e3a4fa2866bce676af68e2f",
       "value": 1
      }
     },
     "74a2ebd188d348bbb5ed1f09752985f8": {
      "model_module": "@jupyter-widgets/controls",
      "model_module_version": "1.5.0",
      "model_name": "HBoxModel",
      "state": {
       "children": [
        "IPY_MODEL_cb872f33229b45b4b7870882f95b8754",
        "IPY_MODEL_3b6fcbedd3ea4c6ea0e5f07effcd8f42",
        "IPY_MODEL_56aa60b6b6a24f1d801c2a61e1819ca3"
       ],
       "layout": "IPY_MODEL_5ec4a67f11aa4e0eab2c1f02efa2d0ca"
      }
     },
     "778ef6013196478590abfb12043cf92f": {
      "model_module": "@jupyter-widgets/base",
      "model_module_version": "1.2.0",
      "model_name": "LayoutModel",
      "state": {}
     },
     "786d41c716d94a99a181221b7abcbeff": {
      "model_module": "@jupyter-widgets/controls",
      "model_module_version": "1.5.0",
      "model_name": "FloatProgressModel",
      "state": {
       "bar_style": "success",
       "layout": "IPY_MODEL_c3bd291b53d54f04b9fe1a2a5ecf2a75",
       "max": 1,
       "style": "IPY_MODEL_f6a7ee82634c4bbca73329056f1eddbc",
       "value": 1
      }
     },
     "7a5fd5d4bc5842d1a98fb63d2f38bac5": {
      "model_module": "@jupyter-widgets/controls",
      "model_module_version": "1.5.0",
      "model_name": "ProgressStyleModel",
      "state": {
       "description_width": ""
      }
     },
     "7ded9fab0a0443fba505379d5350c6d4": {
      "model_module": "@jupyter-widgets/controls",
      "model_module_version": "1.5.0",
      "model_name": "DescriptionStyleModel",
      "state": {
       "description_width": ""
      }
     },
     "825267ead1b74eb780be81848a9515b1": {
      "model_module": "@jupyter-widgets/base",
      "model_module_version": "1.2.0",
      "model_name": "LayoutModel",
      "state": {}
     },
     "8abd3227847b4eabbf67550ecd82e0b2": {
      "model_module": "@jupyter-widgets/controls",
      "model_module_version": "1.5.0",
      "model_name": "HBoxModel",
      "state": {
       "children": [
        "IPY_MODEL_d6e57eb8127447748449669393f1167a",
        "IPY_MODEL_4cc0e2a755a44fc38f8c986c90aba98c",
        "IPY_MODEL_0c3593de5f7449eabae6630ca1e8ad7c"
       ],
       "layout": "IPY_MODEL_0a4d5183030145e682f6bb10f7076622"
      }
     },
     "8c2bcb3f17bb459a8116ec69feeba0f3": {
      "model_module": "@jupyter-widgets/base",
      "model_module_version": "1.2.0",
      "model_name": "LayoutModel",
      "state": {}
     },
     "8c4eb4edbd90403fb680490419ed746a": {
      "model_module": "@jupyter-widgets/controls",
      "model_module_version": "1.5.0",
      "model_name": "HTMLModel",
      "state": {
       "layout": "IPY_MODEL_4c350a2cf6334f03b1110164e775cd21",
       "style": "IPY_MODEL_2e1172d914624ef29ac59014d068d869",
       "value": "data/36-station-meteo-toulouse-purpan.csv: "
      }
     },
     "8df8fbd81d0b47b08def67f8e9021eb5": {
      "model_module": "@jupyter-widgets/controls",
      "model_module_version": "1.5.0",
      "model_name": "ProgressStyleModel",
      "state": {
       "description_width": ""
      }
     },
     "90120ea4af50450d81b569534b4d5b84": {
      "model_module": "@jupyter-widgets/base",
      "model_module_version": "1.2.0",
      "model_name": "LayoutModel",
      "state": {
       "width": "20px"
      }
     },
     "91d209c844e74eb3ada05410351bc74d": {
      "model_module": "@jupyter-widgets/base",
      "model_module_version": "1.2.0",
      "model_name": "LayoutModel",
      "state": {
       "width": "20px"
      }
     },
     "935229cd813b4825a94cb626d4054041": {
      "model_module": "@jupyter-widgets/controls",
      "model_module_version": "1.5.0",
      "model_name": "DescriptionStyleModel",
      "state": {
       "description_width": ""
      }
     },
     "96020ec427014f4bb36d687b689b1a53": {
      "model_module": "@jupyter-widgets/controls",
      "model_module_version": "1.5.0",
      "model_name": "HBoxModel",
      "state": {
       "children": [
        "IPY_MODEL_0dd93bad89d6486b97d557aec3fae0df",
        "IPY_MODEL_19da869c6c2549d386a556ad8067ae76",
        "IPY_MODEL_26ac775c61e44ecd8699e33dffa25429"
       ],
       "layout": "IPY_MODEL_2552aed11d70400b9d62b12e001e5f54"
      }
     },
     "988c0bd1f1154ee7bea8a727a6a1f1ef": {
      "model_module": "@jupyter-widgets/controls",
      "model_module_version": "1.5.0",
      "model_name": "HTMLModel",
      "state": {
       "layout": "IPY_MODEL_43e6b1d202b0440c83fbaecf5f9eaec3",
       "style": "IPY_MODEL_6ab52ed093d942c8bcbf4532f9e9ee86",
       "value": "data/12-station-meteo-toulouse-montaudran.csv: "
      }
     },
     "9b5cdb71dd1c417d97801138a13ba9ca": {
      "model_module": "@jupyter-widgets/controls",
      "model_module_version": "1.5.0",
      "model_name": "DescriptionStyleModel",
      "state": {
       "description_width": ""
      }
     },
     "9bf40d01ed394b749e6282f87f435b48": {
      "model_module": "@jupyter-widgets/base",
      "model_module_version": "1.2.0",
      "model_name": "LayoutModel",
      "state": {}
     },
     "a103e3e47dfe4cb4a27498dffec90ce8": {
      "model_module": "@jupyter-widgets/base",
      "model_module_version": "1.2.0",
      "model_name": "LayoutModel",
      "state": {}
     },
     "a4c1eb8d1ada49afa8845d78026496db": {
      "model_module": "@jupyter-widgets/controls",
      "model_module_version": "1.5.0",
      "model_name": "DescriptionStyleModel",
      "state": {
       "description_width": ""
      }
     },
     "a5113ae2a18d480194006790e98e4e16": {
      "model_module": "@jupyter-widgets/controls",
      "model_module_version": "1.5.0",
      "model_name": "DescriptionStyleModel",
      "state": {
       "description_width": ""
      }
     },
     "aa2960dd14824906acd3059e7b363943": {
      "model_module": "@jupyter-widgets/controls",
      "model_module_version": "1.5.0",
      "model_name": "ProgressStyleModel",
      "state": {
       "description_width": ""
      }
     },
     "b2c29f3f9b2341d2812a0024d86924e9": {
      "model_module": "@jupyter-widgets/controls",
      "model_module_version": "1.5.0",
      "model_name": "HBoxModel",
      "state": {
       "children": [
        "IPY_MODEL_e814953efe474445a950abbdcbbc52bc",
        "IPY_MODEL_786d41c716d94a99a181221b7abcbeff",
        "IPY_MODEL_5a572e12482e4c8b9b775bb494372c89"
       ],
       "layout": "IPY_MODEL_778ef6013196478590abfb12043cf92f"
      }
     },
     "b53658b3f0664073b0a6393b035fa723": {
      "model_module": "@jupyter-widgets/controls",
      "model_module_version": "1.5.0",
      "model_name": "HBoxModel",
      "state": {
       "children": [
        "IPY_MODEL_988c0bd1f1154ee7bea8a727a6a1f1ef",
        "IPY_MODEL_737adf0344ae4e3e8f479e1dd9289269",
        "IPY_MODEL_3ef38afa7c0049098166618c1dfa6980"
       ],
       "layout": "IPY_MODEL_9bf40d01ed394b749e6282f87f435b48"
      }
     },
     "b792944375ab4072aee161a898c4bdb4": {
      "model_module": "@jupyter-widgets/controls",
      "model_module_version": "1.5.0",
      "model_name": "ProgressStyleModel",
      "state": {
       "description_width": ""
      }
     },
     "b8c6e01d16e7473681209e5cb79d08e0": {
      "model_module": "@jupyter-widgets/base",
      "model_module_version": "1.2.0",
      "model_name": "LayoutModel",
      "state": {}
     },
     "c3bd291b53d54f04b9fe1a2a5ecf2a75": {
      "model_module": "@jupyter-widgets/base",
      "model_module_version": "1.2.0",
      "model_name": "LayoutModel",
      "state": {
       "width": "20px"
      }
     },
     "c8cc2e94b09f455b9b7ad0ce1a7595d3": {
      "model_module": "@jupyter-widgets/controls",
      "model_module_version": "1.5.0",
      "model_name": "DescriptionStyleModel",
      "state": {
       "description_width": ""
      }
     },
     "c8ce67a445f743149857509847975226": {
      "model_module": "@jupyter-widgets/base",
      "model_module_version": "1.2.0",
      "model_name": "LayoutModel",
      "state": {}
     },
     "cb27a086876440f08a77a6f142c766c0": {
      "model_module": "@jupyter-widgets/base",
      "model_module_version": "1.2.0",
      "model_name": "LayoutModel",
      "state": {}
     },
     "cb872f33229b45b4b7870882f95b8754": {
      "model_module": "@jupyter-widgets/controls",
      "model_module_version": "1.5.0",
      "model_name": "HTMLModel",
      "state": {
       "layout": "IPY_MODEL_08ce7afa06214d8d8de7748b720850c1",
       "style": "IPY_MODEL_6b53e8bd49414094976efd1eccf994f9",
       "value": "data/01-station-meteo-toulouse-meteopole.csv: "
      }
     },
     "cd7b246bef914224b8b1d6bbcaf1ea1e": {
      "model_module": "@jupyter-widgets/base",
      "model_module_version": "1.2.0",
      "model_name": "LayoutModel",
      "state": {}
     },
     "cdc48cd9000142b78bc2961be3cbd968": {
      "model_module": "@jupyter-widgets/controls",
      "model_module_version": "1.5.0",
      "model_name": "HTMLModel",
      "state": {
       "layout": "IPY_MODEL_a103e3e47dfe4cb4a27498dffec90ce8",
       "style": "IPY_MODEL_c8cc2e94b09f455b9b7ad0ce1a7595d3",
       "value": "data/00-station-meteo-toulouse-valade.csv: "
      }
     },
     "cf15a41b9c994874bf8d85ad560fc084": {
      "model_module": "@jupyter-widgets/controls",
      "model_module_version": "1.5.0",
      "model_name": "HBoxModel",
      "state": {
       "children": [
        "IPY_MODEL_8c4eb4edbd90403fb680490419ed746a",
        "IPY_MODEL_4dd9db8b76f743c69c3b73af304c0a1f",
        "IPY_MODEL_277eb9e5ba5a4e779d700b1d559b3cc0"
       ],
       "layout": "IPY_MODEL_825267ead1b74eb780be81848a9515b1"
      }
     },
     "d51c8e3feed64d989f98918dafa87c70": {
      "model_module": "@jupyter-widgets/base",
      "model_module_version": "1.2.0",
      "model_name": "LayoutModel",
      "state": {}
     },
     "d6e57eb8127447748449669393f1167a": {
      "model_module": "@jupyter-widgets/controls",
      "model_module_version": "1.5.0",
      "model_name": "HTMLModel",
      "state": {
       "layout": "IPY_MODEL_8c2bcb3f17bb459a8116ec69feeba0f3",
       "style": "IPY_MODEL_f16652036f034ce998ec25ea01ca693a",
       "value": "data/15-station-meteo-l-union-ecole.csv: "
      }
     },
     "d89a509191bd453d8a4fa004525f7eb3": {
      "model_module": "@jupyter-widgets/base",
      "model_module_version": "1.2.0",
      "model_name": "LayoutModel",
      "state": {}
     },
     "da18a41d37e24f7cb40f3e43ec9f7857": {
      "model_module": "@jupyter-widgets/controls",
      "model_module_version": "1.5.0",
      "model_name": "DescriptionStyleModel",
      "state": {
       "description_width": ""
      }
     },
     "dd8afc188eb646999e1170a6671c7c42": {
      "model_module": "@jupyter-widgets/controls",
      "model_module_version": "1.5.0",
      "model_name": "HBoxModel",
      "state": {
       "children": [
        "IPY_MODEL_1f44887ed09740139aa5d444009f37f6",
        "IPY_MODEL_02ba70e8b8a5498d8458cf57b73b9454",
        "IPY_MODEL_216c7a86ba9d4a7eab3a3163a9e8dfaa"
       ],
       "layout": "IPY_MODEL_03a58d543d3f456da1a68201df12cf02"
      }
     },
     "e814953efe474445a950abbdcbbc52bc": {
      "model_module": "@jupyter-widgets/controls",
      "model_module_version": "1.5.0",
      "model_name": "HTMLModel",
      "state": {
       "layout": "IPY_MODEL_d51c8e3feed64d989f98918dafa87c70",
       "style": "IPY_MODEL_935229cd813b4825a94cb626d4054041",
       "value": "data/04-station-meteo-toulouse-ile-empalot.csv: "
      }
     },
     "e9d2176ccb2f406a96acc11769dfe137": {
      "model_module": "@jupyter-widgets/base",
      "model_module_version": "1.2.0",
      "model_name": "LayoutModel",
      "state": {}
     },
     "ede1ab1c65a4433786b09a580b7aceb1": {
      "model_module": "@jupyter-widgets/base",
      "model_module_version": "1.2.0",
      "model_name": "LayoutModel",
      "state": {}
     },
     "f019465aee594818a88b2c44e59c78a1": {
      "model_module": "@jupyter-widgets/base",
      "model_module_version": "1.2.0",
      "model_name": "LayoutModel",
      "state": {
       "width": "20px"
      }
     },
     "f16652036f034ce998ec25ea01ca693a": {
      "model_module": "@jupyter-widgets/controls",
      "model_module_version": "1.5.0",
      "model_name": "DescriptionStyleModel",
      "state": {
       "description_width": ""
      }
     },
     "f682486094fc41e88dd50bf1c2a3bd12": {
      "model_module": "@jupyter-widgets/base",
      "model_module_version": "1.2.0",
      "model_name": "LayoutModel",
      "state": {}
     },
     "f6a7ee82634c4bbca73329056f1eddbc": {
      "model_module": "@jupyter-widgets/controls",
      "model_module_version": "1.5.0",
      "model_name": "ProgressStyleModel",
      "state": {
       "description_width": ""
      }
     }
    },
    "version_major": 2,
    "version_minor": 0
   }
  }
 },
 "nbformat": 4,
 "nbformat_minor": 4
}
